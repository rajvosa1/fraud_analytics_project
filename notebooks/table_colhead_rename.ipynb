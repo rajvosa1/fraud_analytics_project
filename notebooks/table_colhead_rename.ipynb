{
 "cells": [
  {
   "cell_type": "code",
   "execution_count": null,
   "id": "b59db83c",
   "metadata": {},
   "outputs": [],
   "source": []
  },
  {
   "cell_type": "code",
   "execution_count": 1,
   "id": "4698f1ab",
   "metadata": {},
   "outputs": [],
   "source": [
    "import pandas as pd\n",
    "import numpy as np\n",
    "import matplotlib.pyplot as plt\n",
    "import seaborn as sns"
   ]
  },
  {
   "cell_type": "code",
   "execution_count": 3,
   "id": "66244c26",
   "metadata": {},
   "outputs": [],
   "source": [
    "df = pd.read_csv('C:/Users/alden/OneDrive/Desktop/Python data science/IEEE CIS Fraud detection/accounts.csv')"
   ]
  },
  {
   "cell_type": "code",
   "execution_count": 4,
   "id": "7e46f599",
   "metadata": {},
   "outputs": [
    {
     "data": {
      "text/html": [
       "<div>\n",
       "<style scoped>\n",
       "    .dataframe tbody tr th:only-of-type {\n",
       "        vertical-align: middle;\n",
       "    }\n",
       "\n",
       "    .dataframe tbody tr th {\n",
       "        vertical-align: top;\n",
       "    }\n",
       "\n",
       "    .dataframe thead th {\n",
       "        text-align: right;\n",
       "    }\n",
       "</style>\n",
       "<table border=\"1\" class=\"dataframe\">\n",
       "  <thead>\n",
       "    <tr style=\"text-align: right;\">\n",
       "      <th></th>\n",
       "      <th>account_id</th>\n",
       "      <th>customer_id</th>\n",
       "      <th>account_type</th>\n",
       "      <th>currency</th>\n",
       "      <th>balance</th>\n",
       "      <th>status</th>\n",
       "      <th>created_at</th>\n",
       "      <th>closed_at</th>\n",
       "    </tr>\n",
       "  </thead>\n",
       "  <tbody>\n",
       "    <tr>\n",
       "      <th>0</th>\n",
       "      <td>A00001</td>\n",
       "      <td>C0284</td>\n",
       "      <td>CREDIT</td>\n",
       "      <td>EUR</td>\n",
       "      <td>40461.13</td>\n",
       "      <td>BLOCKED</td>\n",
       "      <td>2021-01-03</td>\n",
       "      <td>NaN</td>\n",
       "    </tr>\n",
       "    <tr>\n",
       "      <th>1</th>\n",
       "      <td>A00002</td>\n",
       "      <td>C0267</td>\n",
       "      <td>SAVINGS</td>\n",
       "      <td>USD</td>\n",
       "      <td>32045.30</td>\n",
       "      <td>BLOCKED</td>\n",
       "      <td>2023-10-27</td>\n",
       "      <td>NaN</td>\n",
       "    </tr>\n",
       "    <tr>\n",
       "      <th>2</th>\n",
       "      <td>A00003</td>\n",
       "      <td>C0095</td>\n",
       "      <td>CURRENT</td>\n",
       "      <td>USD</td>\n",
       "      <td>9863.51</td>\n",
       "      <td>CLOSED</td>\n",
       "      <td>2020-11-21</td>\n",
       "      <td>2024-02-07</td>\n",
       "    </tr>\n",
       "    <tr>\n",
       "      <th>3</th>\n",
       "      <td>A00004</td>\n",
       "      <td>C0153</td>\n",
       "      <td>CREDIT</td>\n",
       "      <td>BAM</td>\n",
       "      <td>26341.43</td>\n",
       "      <td>CLOSED</td>\n",
       "      <td>2025-06-12</td>\n",
       "      <td>NaN</td>\n",
       "    </tr>\n",
       "    <tr>\n",
       "      <th>4</th>\n",
       "      <td>A00005</td>\n",
       "      <td>C0028</td>\n",
       "      <td>CREDIT</td>\n",
       "      <td>HRK</td>\n",
       "      <td>33063.14</td>\n",
       "      <td>ACTIVE</td>\n",
       "      <td>2024-07-14</td>\n",
       "      <td>2024-04-23</td>\n",
       "    </tr>\n",
       "  </tbody>\n",
       "</table>\n",
       "</div>"
      ],
      "text/plain": [
       "  account_id customer_id account_type currency   balance   status  created_at  \\\n",
       "0     A00001       C0284       CREDIT      EUR  40461.13  BLOCKED  2021-01-03   \n",
       "1     A00002       C0267      SAVINGS      USD  32045.30  BLOCKED  2023-10-27   \n",
       "2     A00003       C0095      CURRENT      USD   9863.51   CLOSED  2020-11-21   \n",
       "3     A00004       C0153       CREDIT      BAM  26341.43   CLOSED  2025-06-12   \n",
       "4     A00005       C0028       CREDIT      HRK  33063.14   ACTIVE  2024-07-14   \n",
       "\n",
       "    closed_at  \n",
       "0         NaN  \n",
       "1         NaN  \n",
       "2  2024-02-07  \n",
       "3         NaN  \n",
       "4  2024-04-23  "
      ]
     },
     "execution_count": 4,
     "metadata": {},
     "output_type": "execute_result"
    }
   ],
   "source": [
    "df.head()"
   ]
  },
  {
   "cell_type": "code",
   "execution_count": null,
   "id": "c9428045",
   "metadata": {},
   "outputs": [
    {
     "name": "stdout",
     "output_type": "stream",
     "text": [
      "a_account_id\n",
      "a_customer_id\n",
      "a_account_type\n",
      "a_currency\n",
      "a_balance\n",
      "a_status\n",
      "a_created_at\n",
      "a_closed_at\n"
     ]
    }
   ],
   "source": [
    "for col in df.columns:\n",
    "    print(\"a_\" + col)"
   ]
  },
  {
   "cell_type": "code",
   "execution_count": 11,
   "id": "25023651",
   "metadata": {},
   "outputs": [
    {
     "data": {
      "text/plain": [
       "<function __main__.<lambda>(col)>"
      ]
     },
     "execution_count": 11,
     "metadata": {},
     "output_type": "execute_result"
    }
   ],
   "source": [
    "lambda col: \"a_\" + col"
   ]
  },
  {
   "cell_type": "code",
   "execution_count": 12,
   "id": "753af879",
   "metadata": {},
   "outputs": [],
   "source": [
    "df.columns = df.columns.map(lambda col: \"a_\" + col)"
   ]
  },
  {
   "cell_type": "code",
   "execution_count": 14,
   "id": "536c8f0e",
   "metadata": {},
   "outputs": [
    {
     "data": {
      "text/html": [
       "<div>\n",
       "<style scoped>\n",
       "    .dataframe tbody tr th:only-of-type {\n",
       "        vertical-align: middle;\n",
       "    }\n",
       "\n",
       "    .dataframe tbody tr th {\n",
       "        vertical-align: top;\n",
       "    }\n",
       "\n",
       "    .dataframe thead th {\n",
       "        text-align: right;\n",
       "    }\n",
       "</style>\n",
       "<table border=\"1\" class=\"dataframe\">\n",
       "  <thead>\n",
       "    <tr style=\"text-align: right;\">\n",
       "      <th></th>\n",
       "      <th>a_account_id</th>\n",
       "      <th>a_customer_id</th>\n",
       "      <th>a_account_type</th>\n",
       "      <th>a_currency</th>\n",
       "      <th>a_balance</th>\n",
       "      <th>a_status</th>\n",
       "      <th>a_created_at</th>\n",
       "      <th>a_closed_at</th>\n",
       "    </tr>\n",
       "  </thead>\n",
       "  <tbody>\n",
       "    <tr>\n",
       "      <th>0</th>\n",
       "      <td>A00001</td>\n",
       "      <td>C0284</td>\n",
       "      <td>CREDIT</td>\n",
       "      <td>EUR</td>\n",
       "      <td>40461.13</td>\n",
       "      <td>BLOCKED</td>\n",
       "      <td>2021-01-03</td>\n",
       "      <td>NaN</td>\n",
       "    </tr>\n",
       "    <tr>\n",
       "      <th>1</th>\n",
       "      <td>A00002</td>\n",
       "      <td>C0267</td>\n",
       "      <td>SAVINGS</td>\n",
       "      <td>USD</td>\n",
       "      <td>32045.30</td>\n",
       "      <td>BLOCKED</td>\n",
       "      <td>2023-10-27</td>\n",
       "      <td>NaN</td>\n",
       "    </tr>\n",
       "    <tr>\n",
       "      <th>2</th>\n",
       "      <td>A00003</td>\n",
       "      <td>C0095</td>\n",
       "      <td>CURRENT</td>\n",
       "      <td>USD</td>\n",
       "      <td>9863.51</td>\n",
       "      <td>CLOSED</td>\n",
       "      <td>2020-11-21</td>\n",
       "      <td>2024-02-07</td>\n",
       "    </tr>\n",
       "    <tr>\n",
       "      <th>3</th>\n",
       "      <td>A00004</td>\n",
       "      <td>C0153</td>\n",
       "      <td>CREDIT</td>\n",
       "      <td>BAM</td>\n",
       "      <td>26341.43</td>\n",
       "      <td>CLOSED</td>\n",
       "      <td>2025-06-12</td>\n",
       "      <td>NaN</td>\n",
       "    </tr>\n",
       "    <tr>\n",
       "      <th>4</th>\n",
       "      <td>A00005</td>\n",
       "      <td>C0028</td>\n",
       "      <td>CREDIT</td>\n",
       "      <td>HRK</td>\n",
       "      <td>33063.14</td>\n",
       "      <td>ACTIVE</td>\n",
       "      <td>2024-07-14</td>\n",
       "      <td>2024-04-23</td>\n",
       "    </tr>\n",
       "  </tbody>\n",
       "</table>\n",
       "</div>"
      ],
      "text/plain": [
       "  a_account_id a_customer_id a_account_type a_currency  a_balance a_status  \\\n",
       "0       A00001         C0284         CREDIT        EUR   40461.13  BLOCKED   \n",
       "1       A00002         C0267        SAVINGS        USD   32045.30  BLOCKED   \n",
       "2       A00003         C0095        CURRENT        USD    9863.51   CLOSED   \n",
       "3       A00004         C0153         CREDIT        BAM   26341.43   CLOSED   \n",
       "4       A00005         C0028         CREDIT        HRK   33063.14   ACTIVE   \n",
       "\n",
       "  a_created_at a_closed_at  \n",
       "0   2021-01-03         NaN  \n",
       "1   2023-10-27         NaN  \n",
       "2   2020-11-21  2024-02-07  \n",
       "3   2025-06-12         NaN  \n",
       "4   2024-07-14  2024-04-23  "
      ]
     },
     "execution_count": 14,
     "metadata": {},
     "output_type": "execute_result"
    }
   ],
   "source": [
    "df.head()"
   ]
  },
  {
   "cell_type": "code",
   "execution_count": 17,
   "id": "53550b11",
   "metadata": {},
   "outputs": [],
   "source": [
    "df.to_csv('C:/Users/alden/OneDrive/Desktop/Python data science/IEEE CIS Fraud detection/a_accounts.csv', index=False)"
   ]
  },
  {
   "cell_type": "code",
   "execution_count": 18,
   "id": "79fb34c2",
   "metadata": {},
   "outputs": [],
   "source": [
    "df1 = pd.read_csv('C:/Users/alden/OneDrive/Desktop/Python data science/IEEE CIS Fraud detection/a_accounts.csv')"
   ]
  },
  {
   "cell_type": "code",
   "execution_count": 19,
   "id": "b1476a8f",
   "metadata": {},
   "outputs": [
    {
     "data": {
      "text/html": [
       "<div>\n",
       "<style scoped>\n",
       "    .dataframe tbody tr th:only-of-type {\n",
       "        vertical-align: middle;\n",
       "    }\n",
       "\n",
       "    .dataframe tbody tr th {\n",
       "        vertical-align: top;\n",
       "    }\n",
       "\n",
       "    .dataframe thead th {\n",
       "        text-align: right;\n",
       "    }\n",
       "</style>\n",
       "<table border=\"1\" class=\"dataframe\">\n",
       "  <thead>\n",
       "    <tr style=\"text-align: right;\">\n",
       "      <th></th>\n",
       "      <th>a_account_id</th>\n",
       "      <th>a_customer_id</th>\n",
       "      <th>a_account_type</th>\n",
       "      <th>a_currency</th>\n",
       "      <th>a_balance</th>\n",
       "      <th>a_status</th>\n",
       "      <th>a_created_at</th>\n",
       "      <th>a_closed_at</th>\n",
       "    </tr>\n",
       "  </thead>\n",
       "  <tbody>\n",
       "    <tr>\n",
       "      <th>0</th>\n",
       "      <td>A00001</td>\n",
       "      <td>C0284</td>\n",
       "      <td>CREDIT</td>\n",
       "      <td>EUR</td>\n",
       "      <td>40461.13</td>\n",
       "      <td>BLOCKED</td>\n",
       "      <td>2021-01-03</td>\n",
       "      <td>NaN</td>\n",
       "    </tr>\n",
       "    <tr>\n",
       "      <th>1</th>\n",
       "      <td>A00002</td>\n",
       "      <td>C0267</td>\n",
       "      <td>SAVINGS</td>\n",
       "      <td>USD</td>\n",
       "      <td>32045.30</td>\n",
       "      <td>BLOCKED</td>\n",
       "      <td>2023-10-27</td>\n",
       "      <td>NaN</td>\n",
       "    </tr>\n",
       "    <tr>\n",
       "      <th>2</th>\n",
       "      <td>A00003</td>\n",
       "      <td>C0095</td>\n",
       "      <td>CURRENT</td>\n",
       "      <td>USD</td>\n",
       "      <td>9863.51</td>\n",
       "      <td>CLOSED</td>\n",
       "      <td>2020-11-21</td>\n",
       "      <td>2024-02-07</td>\n",
       "    </tr>\n",
       "    <tr>\n",
       "      <th>3</th>\n",
       "      <td>A00004</td>\n",
       "      <td>C0153</td>\n",
       "      <td>CREDIT</td>\n",
       "      <td>BAM</td>\n",
       "      <td>26341.43</td>\n",
       "      <td>CLOSED</td>\n",
       "      <td>2025-06-12</td>\n",
       "      <td>NaN</td>\n",
       "    </tr>\n",
       "    <tr>\n",
       "      <th>4</th>\n",
       "      <td>A00005</td>\n",
       "      <td>C0028</td>\n",
       "      <td>CREDIT</td>\n",
       "      <td>HRK</td>\n",
       "      <td>33063.14</td>\n",
       "      <td>ACTIVE</td>\n",
       "      <td>2024-07-14</td>\n",
       "      <td>2024-04-23</td>\n",
       "    </tr>\n",
       "  </tbody>\n",
       "</table>\n",
       "</div>"
      ],
      "text/plain": [
       "  a_account_id a_customer_id a_account_type a_currency  a_balance a_status  \\\n",
       "0       A00001         C0284         CREDIT        EUR   40461.13  BLOCKED   \n",
       "1       A00002         C0267        SAVINGS        USD   32045.30  BLOCKED   \n",
       "2       A00003         C0095        CURRENT        USD    9863.51   CLOSED   \n",
       "3       A00004         C0153         CREDIT        BAM   26341.43   CLOSED   \n",
       "4       A00005         C0028         CREDIT        HRK   33063.14   ACTIVE   \n",
       "\n",
       "  a_created_at a_closed_at  \n",
       "0   2021-01-03         NaN  \n",
       "1   2023-10-27         NaN  \n",
       "2   2020-11-21  2024-02-07  \n",
       "3   2025-06-12         NaN  \n",
       "4   2024-07-14  2024-04-23  "
      ]
     },
     "execution_count": 19,
     "metadata": {},
     "output_type": "execute_result"
    }
   ],
   "source": [
    "df1.head()"
   ]
  },
  {
   "cell_type": "code",
   "execution_count": 22,
   "id": "ecab7502",
   "metadata": {},
   "outputs": [],
   "source": [
    "df2 = pd.read_csv('C:/Users/alden/OneDrive/Desktop/Python data science/IEEE CIS Fraud detection/merchants.csv')\n",
    "df2.columns = df2.columns.map(lambda col: \"m_\" + col)\n",
    "df2.to_csv('C:/Users/alden/OneDrive/Desktop/Python data science/IEEE CIS Fraud detection/m_merchants.csv', index=False)"
   ]
  },
  {
   "cell_type": "code",
   "execution_count": 21,
   "id": "42f50ec6",
   "metadata": {},
   "outputs": [],
   "source": [
    "df3 = pd.read_csv('C:/Users/alden/OneDrive/Desktop/Python data science/IEEE CIS Fraud detection/customers.csv')\n",
    "df3.columns = df3.columns.map(lambda col: \"c_\" + col)\n",
    "df3.to_csv('C:/Users/alden/OneDrive/Desktop/Python data science/IEEE CIS Fraud detection/c_customers.csv', index=False)"
   ]
  },
  {
   "cell_type": "code",
   "execution_count": null,
   "id": "3c979120",
   "metadata": {},
   "outputs": [],
   "source": []
  }
 ],
 "metadata": {
  "kernelspec": {
   "display_name": "base",
   "language": "python",
   "name": "python3"
  },
  "language_info": {
   "codemirror_mode": {
    "name": "ipython",
    "version": 3
   },
   "file_extension": ".py",
   "mimetype": "text/x-python",
   "name": "python",
   "nbconvert_exporter": "python",
   "pygments_lexer": "ipython3",
   "version": "3.9.21"
  }
 },
 "nbformat": 4,
 "nbformat_minor": 5
}
